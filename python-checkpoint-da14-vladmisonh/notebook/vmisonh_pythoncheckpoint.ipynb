{
 "cells": [
  {
   "cell_type": "markdown",
   "id": "456f6016-4eef-442d-94c7-73c61a0efe67",
   "metadata": {},
   "source": [
    "## Pandas Checkpoint"
   ]
  },
  {
   "cell_type": "code",
   "execution_count": 2,
   "id": "e497d4a0-3d52-4c3a-ad2a-cb9d10e7800c",
   "metadata": {},
   "outputs": [],
   "source": [
    "import pandas as pd\n",
    "import numpy as np\n",
    "import matplotlib.pyplot as plt\n",
    "import seaborn as sns"
   ]
  },
  {
   "cell_type": "markdown",
   "id": "f30af815-80df-4582-bd6e-973ee5d4553f",
   "metadata": {},
   "source": [
    "Read the data from disney_plus.csv into a pandas DataFrame."
   ]
  },
  {
   "cell_type": "code",
   "execution_count": 4,
   "id": "911c4224-6bb5-406d-b1e3-58cdad848368",
   "metadata": {
    "scrolled": true
   },
   "outputs": [
    {
     "data": {
      "text/html": [
       "<div>\n",
       "<style scoped>\n",
       "    .dataframe tbody tr th:only-of-type {\n",
       "        vertical-align: middle;\n",
       "    }\n",
       "\n",
       "    .dataframe tbody tr th {\n",
       "        vertical-align: top;\n",
       "    }\n",
       "\n",
       "    .dataframe thead th {\n",
       "        text-align: right;\n",
       "    }\n",
       "</style>\n",
       "<table border=\"1\" class=\"dataframe\">\n",
       "  <thead>\n",
       "    <tr style=\"text-align: right;\">\n",
       "      <th></th>\n",
       "      <th>show_id</th>\n",
       "      <th>type</th>\n",
       "      <th>title</th>\n",
       "      <th>director</th>\n",
       "      <th>cast</th>\n",
       "      <th>country</th>\n",
       "      <th>date_added</th>\n",
       "      <th>release_year</th>\n",
       "      <th>rating</th>\n",
       "      <th>duration</th>\n",
       "      <th>listed_in</th>\n",
       "      <th>description</th>\n",
       "    </tr>\n",
       "  </thead>\n",
       "  <tbody>\n",
       "    <tr>\n",
       "      <th>0</th>\n",
       "      <td>s1</td>\n",
       "      <td>Movie</td>\n",
       "      <td>A Spark Story</td>\n",
       "      <td>Jason Sterman, Leanne Dare</td>\n",
       "      <td>Apthon Corbin, Louis Gonzales</td>\n",
       "      <td>NaN</td>\n",
       "      <td>September 24, 2021</td>\n",
       "      <td>2021</td>\n",
       "      <td>TV-PG</td>\n",
       "      <td>88 min</td>\n",
       "      <td>Documentary</td>\n",
       "      <td>Two Pixar filmmakers strive to bring their uni...</td>\n",
       "    </tr>\n",
       "    <tr>\n",
       "      <th>1</th>\n",
       "      <td>s2</td>\n",
       "      <td>Movie</td>\n",
       "      <td>Spooky Buddies</td>\n",
       "      <td>Robert Vince</td>\n",
       "      <td>Tucker Albrizzi, Diedrich Bader, Ameko Eks Mas...</td>\n",
       "      <td>United States, Canada</td>\n",
       "      <td>September 24, 2021</td>\n",
       "      <td>2011</td>\n",
       "      <td>G</td>\n",
       "      <td>93 min</td>\n",
       "      <td>Comedy, Fantasy, Kids</td>\n",
       "      <td>The puppies go on a spooky adventure through a...</td>\n",
       "    </tr>\n",
       "    <tr>\n",
       "      <th>2</th>\n",
       "      <td>s3</td>\n",
       "      <td>Movie</td>\n",
       "      <td>The Fault in Our Stars</td>\n",
       "      <td>Josh Boone</td>\n",
       "      <td>Shailene Woodley, Ansel Elgort, Laura Dern, Sa...</td>\n",
       "      <td>United States</td>\n",
       "      <td>September 24, 2021</td>\n",
       "      <td>2014</td>\n",
       "      <td>PG-13</td>\n",
       "      <td>127 min</td>\n",
       "      <td>Coming of Age, Drama, Romance</td>\n",
       "      <td>Hazel and Gus share a love that sweeps them on...</td>\n",
       "    </tr>\n",
       "    <tr>\n",
       "      <th>3</th>\n",
       "      <td>s4</td>\n",
       "      <td>TV Show</td>\n",
       "      <td>Dog: Impossible</td>\n",
       "      <td>NaN</td>\n",
       "      <td>Matt Beisner</td>\n",
       "      <td>United States</td>\n",
       "      <td>September 22, 2021</td>\n",
       "      <td>2019</td>\n",
       "      <td>TV-PG</td>\n",
       "      <td>2 Seasons</td>\n",
       "      <td>Animals &amp; Nature, Docuseries, Family</td>\n",
       "      <td>Matt Beisner uses unique approaches to modifyi...</td>\n",
       "    </tr>\n",
       "    <tr>\n",
       "      <th>4</th>\n",
       "      <td>s5</td>\n",
       "      <td>TV Show</td>\n",
       "      <td>Spidey And His Amazing Friends</td>\n",
       "      <td>NaN</td>\n",
       "      <td>Benjamin Valic, Lily Sanfelippo, Jakari Fraser...</td>\n",
       "      <td>United States</td>\n",
       "      <td>September 22, 2021</td>\n",
       "      <td>2021</td>\n",
       "      <td>TV-Y</td>\n",
       "      <td>1 Season</td>\n",
       "      <td>Action-Adventure, Animation, Kids</td>\n",
       "      <td>Spidey teams up with pals to become The Spidey...</td>\n",
       "    </tr>\n",
       "  </tbody>\n",
       "</table>\n",
       "</div>"
      ],
      "text/plain": [
       "  show_id     type                           title  \\\n",
       "0      s1    Movie                   A Spark Story   \n",
       "1      s2    Movie                  Spooky Buddies   \n",
       "2      s3    Movie          The Fault in Our Stars   \n",
       "3      s4  TV Show                 Dog: Impossible   \n",
       "4      s5  TV Show  Spidey And His Amazing Friends   \n",
       "\n",
       "                     director  \\\n",
       "0  Jason Sterman, Leanne Dare   \n",
       "1                Robert Vince   \n",
       "2                  Josh Boone   \n",
       "3                         NaN   \n",
       "4                         NaN   \n",
       "\n",
       "                                                cast                country  \\\n",
       "0                      Apthon Corbin, Louis Gonzales                    NaN   \n",
       "1  Tucker Albrizzi, Diedrich Bader, Ameko Eks Mas...  United States, Canada   \n",
       "2  Shailene Woodley, Ansel Elgort, Laura Dern, Sa...          United States   \n",
       "3                                       Matt Beisner          United States   \n",
       "4  Benjamin Valic, Lily Sanfelippo, Jakari Fraser...          United States   \n",
       "\n",
       "           date_added  release_year rating   duration  \\\n",
       "0  September 24, 2021          2021  TV-PG     88 min   \n",
       "1  September 24, 2021          2011      G     93 min   \n",
       "2  September 24, 2021          2014  PG-13    127 min   \n",
       "3  September 22, 2021          2019  TV-PG  2 Seasons   \n",
       "4  September 22, 2021          2021   TV-Y   1 Season   \n",
       "\n",
       "                              listed_in  \\\n",
       "0                           Documentary   \n",
       "1                 Comedy, Fantasy, Kids   \n",
       "2         Coming of Age, Drama, Romance   \n",
       "3  Animals & Nature, Docuseries, Family   \n",
       "4     Action-Adventure, Animation, Kids   \n",
       "\n",
       "                                         description  \n",
       "0  Two Pixar filmmakers strive to bring their uni...  \n",
       "1  The puppies go on a spooky adventure through a...  \n",
       "2  Hazel and Gus share a love that sweeps them on...  \n",
       "3  Matt Beisner uses unique approaches to modifyi...  \n",
       "4  Spidey teams up with pals to become The Spidey...  "
      ]
     },
     "execution_count": 4,
     "metadata": {},
     "output_type": "execute_result"
    }
   ],
   "source": [
    "disney_df = pd.read_csv('../data/disney_plus.csv')\n",
    "disney_df.head()"
   ]
  },
  {
   "cell_type": "markdown",
   "id": "df5b97d1-a02d-493b-afda-19c6425688a1",
   "metadata": {},
   "source": [
    "### 1. Create a new dataframe named \"movies_df\" consisting of only movies."
   ]
  },
  {
   "cell_type": "code",
   "execution_count": 6,
   "id": "3ec6fe37-0526-4d45-8d20-39fd6b659f44",
   "metadata": {},
   "outputs": [
    {
     "data": {
      "text/plain": [
       "array(['Movie'], dtype=object)"
      ]
     },
     "execution_count": 6,
     "metadata": {},
     "output_type": "execute_result"
    }
   ],
   "source": [
    "movies_df = disney_df[disney_df['type'] == 'Movie'].copy()\n",
    "movies_df['type'].unique()"
   ]
  },
  {
   "cell_type": "markdown",
   "id": "e3c31d79-f772-48d9-b802-298e5d5817bd",
   "metadata": {},
   "source": [
    "### 2. Create a new dataframe named \"movie_ratings\" from movies_df that consists of the top 5 ratings by count. This dataframe should consist of only two columns, rating and count.\n"
   ]
  },
  {
   "cell_type": "code",
   "execution_count": 8,
   "id": "5c067746-bc39-4870-a8eb-fd0d830972da",
   "metadata": {},
   "outputs": [
    {
     "name": "stdout",
     "output_type": "stream",
     "text": [
      "  rating  count\n",
      "0      G    235\n",
      "1     PG    226\n",
      "2   TV-G    224\n",
      "3  TV-PG    165\n",
      "4  PG-13     60\n"
     ]
    }
   ],
   "source": [
    "movie_ratings = movies_df['rating'].value_counts().head(5).reset_index().copy()\n",
    "print(movie_ratings)"
   ]
  },
  {
   "cell_type": "markdown",
   "id": "c3a7d349-b1b7-4c1b-985e-ec7ebea71ac3",
   "metadata": {},
   "source": [
    "### 3. Use the movie_ratings dataframe to create a bar chart showing count of the top 5 ratings.\n"
   ]
  },
  {
   "cell_type": "code",
   "execution_count": 10,
   "id": "f46d5b46-3396-4091-840b-4e7dead907ec",
   "metadata": {},
   "outputs": [
    {
     "data": {
      "image/png": "[encoded data removed]",
      "text/plain": [
       "<Figure size 640x480 with 1 Axes>"
      ]
     },
     "metadata": {},
     "output_type": "display_data"
    }
   ],
   "source": [
    "y_pos = np.arange(len(movie_ratings))\n",
    "\n",
    "plt.bar(y_pos, movie_ratings['count'])\n",
    "\n",
    "plt.xticks(y_pos, movie_ratings['rating'])\n",
    "\n",
    "plt.title(\"Count of the top 5 movie ratings 1928-2021\")\n",
    "plt.xlabel(\"Rating type\")\n",
    "plt.ylabel(\"Amount of movies\")\n",
    "\n",
    "plt.show()"
   ]
  },
  {
   "cell_type": "markdown",
   "id": "c4396821-b320-4493-b2d6-f8f6e2f1136d",
   "metadata": {},
   "source": [
    "### 4. Using the movies_df, subset the data to create a new dataframe named \"year_duration\" that only consists of 2 columns, release_year and duration.\n"
   ]
  },
  {
   "cell_type": "code",
   "execution_count": 12,
   "id": "78c380d1-53d5-40cb-ae7d-c440cf120f15",
   "metadata": {},
   "outputs": [
    {
     "data": {
      "text/html": [
       "<div>\n",
       "<style scoped>\n",
       "    .dataframe tbody tr th:only-of-type {\n",
       "        vertical-align: middle;\n",
       "    }\n",
       "\n",
       "    .dataframe tbody tr th {\n",
       "        vertical-align: top;\n",
       "    }\n",
       "\n",
       "    .dataframe thead th {\n",
       "        text-align: right;\n",
       "    }\n",
       "</style>\n",
       "<table border=\"1\" class=\"dataframe\">\n",
       "  <thead>\n",
       "    <tr style=\"text-align: right;\">\n",
       "      <th></th>\n",
       "      <th>release_year</th>\n",
       "      <th>duration</th>\n",
       "    </tr>\n",
       "  </thead>\n",
       "  <tbody>\n",
       "    <tr>\n",
       "      <th>0</th>\n",
       "      <td>2021</td>\n",
       "      <td>88 min</td>\n",
       "    </tr>\n",
       "    <tr>\n",
       "      <th>1</th>\n",
       "      <td>2011</td>\n",
       "      <td>93 min</td>\n",
       "    </tr>\n",
       "    <tr>\n",
       "      <th>2</th>\n",
       "      <td>2014</td>\n",
       "      <td>127 min</td>\n",
       "    </tr>\n",
       "    <tr>\n",
       "      <th>6</th>\n",
       "      <td>2009</td>\n",
       "      <td>106 min</td>\n",
       "    </tr>\n",
       "    <tr>\n",
       "      <th>7</th>\n",
       "      <td>2021</td>\n",
       "      <td>22 min</td>\n",
       "    </tr>\n",
       "  </tbody>\n",
       "</table>\n",
       "</div>"
      ],
      "text/plain": [
       "   release_year duration\n",
       "0          2021   88 min\n",
       "1          2011   93 min\n",
       "2          2014  127 min\n",
       "6          2009  106 min\n",
       "7          2021   22 min"
      ]
     },
     "execution_count": 12,
     "metadata": {},
     "output_type": "execute_result"
    }
   ],
   "source": [
    "year_duration = movies_df[['release_year', 'duration']].copy()\n",
    "year_duration.head(5)"
   ]
  },
  {
   "cell_type": "markdown",
   "id": "4d4db7d6-343a-4ab9-b8c6-9455330e3da0",
   "metadata": {},
   "source": [
    "### 5. Find min, max, and average duration of movies from the 1975-1984.\n"
   ]
  },
  {
   "cell_type": "code",
   "execution_count": 14,
   "id": "8e026eaa-534f-4f52-990c-4f1a095241b6",
   "metadata": {},
   "outputs": [
    {
     "data": {
      "text/html": [
       "<div>\n",
       "<style scoped>\n",
       "    .dataframe tbody tr th:only-of-type {\n",
       "        vertical-align: middle;\n",
       "    }\n",
       "\n",
       "    .dataframe tbody tr th {\n",
       "        vertical-align: top;\n",
       "    }\n",
       "\n",
       "    .dataframe thead th {\n",
       "        text-align: right;\n",
       "    }\n",
       "</style>\n",
       "<table border=\"1\" class=\"dataframe\">\n",
       "  <thead>\n",
       "    <tr style=\"text-align: right;\">\n",
       "      <th></th>\n",
       "      <th>release_year</th>\n",
       "      <th>duration</th>\n",
       "      <th>duration_minutes</th>\n",
       "    </tr>\n",
       "  </thead>\n",
       "  <tbody>\n",
       "    <tr>\n",
       "      <th>0</th>\n",
       "      <td>2021</td>\n",
       "      <td>88 min</td>\n",
       "      <td>88</td>\n",
       "    </tr>\n",
       "    <tr>\n",
       "      <th>1</th>\n",
       "      <td>2011</td>\n",
       "      <td>93 min</td>\n",
       "      <td>93</td>\n",
       "    </tr>\n",
       "    <tr>\n",
       "      <th>2</th>\n",
       "      <td>2014</td>\n",
       "      <td>127 min</td>\n",
       "      <td>127</td>\n",
       "    </tr>\n",
       "    <tr>\n",
       "      <th>6</th>\n",
       "      <td>2009</td>\n",
       "      <td>106 min</td>\n",
       "      <td>106</td>\n",
       "    </tr>\n",
       "    <tr>\n",
       "      <th>7</th>\n",
       "      <td>2021</td>\n",
       "      <td>22 min</td>\n",
       "      <td>22</td>\n",
       "    </tr>\n",
       "  </tbody>\n",
       "</table>\n",
       "</div>"
      ],
      "text/plain": [
       "   release_year duration  duration_minutes\n",
       "0          2021   88 min                88\n",
       "1          2011   93 min                93\n",
       "2          2014  127 min               127\n",
       "6          2009  106 min               106\n",
       "7          2021   22 min                22"
      ]
     },
     "execution_count": 14,
     "metadata": {},
     "output_type": "execute_result"
    }
   ],
   "source": [
    "def get_minutes(x):\n",
    "    return int(x.split(' ')[0])\n",
    "\n",
    "year_duration['duration_minutes'] = year_duration['duration'].apply(get_minutes)\n",
    "year_duration.head()"
   ]
  },
  {
   "cell_type": "code",
   "execution_count": 15,
   "id": "d8de24c7-70c1-4ba4-bcae-41045da1ea5c",
   "metadata": {},
   "outputs": [
    {
     "name": "stdout",
     "output_type": "stream",
     "text": [
      "Min duration of movies from the 1975-1984: 2 min\n",
      "Max duration of movies from the 1975-1984: 135 min\n",
      "Average duration of movies from the 1975-1984: 85.91 min\n"
     ]
    }
   ],
   "source": [
    "min_duration_1975_1984 = year_duration['duration_minutes'][(year_duration['release_year'] > 1974) & (year_duration['release_year'] < 1985)].min()\n",
    "max_duration_1975_1984 = year_duration['duration_minutes'][(year_duration['release_year'] > 1974) & (year_duration['release_year'] < 1985)].max()\n",
    "avg_duration_1975_1984 = year_duration['duration_minutes'][(year_duration['release_year'] > 1974) & (year_duration['release_year'] < 1985)].mean()\n",
    "\n",
    "print(f\"Min duration of movies from the 1975-1984: {min_duration_1975_1984} min\")\n",
    "print(f\"Max duration of movies from the 1975-1984: {max_duration_1975_1984} min\")\n",
    "print(f\"Average duration of movies from the 1975-1984: {avg_duration_1975_1984:.2f} min\")"
   ]
  },
  {
   "cell_type": "markdown",
   "id": "0d0b040d-895f-48a8-b7b4-f8a83677bc88",
   "metadata": {},
   "source": [
    "### 6. Create a scatterplot using year_duration that looks at movie durations over the years.  Do you notice any correlation from inspecting the scatterplot?\n"
   ]
  },
  {
   "cell_type": "code",
   "execution_count": 17,
   "id": "c4220dc0-0afe-4862-a602-231099a86630",
   "metadata": {},
   "outputs": [
    {
     "data": {
      "image/png": "[encoded data removed]",
      "text/plain": [
       "<Figure size 640x480 with 1 Axes>"
      ]
     },
     "metadata": {},
     "output_type": "display_data"
    }
   ],
   "source": [
    "sns.regplot(x=year_duration[\"release_year\"], y=year_duration[\"duration_minutes\"], scatter=True, line_kws={\"color\": \"red\"})\n",
    "\n",
    "plt.title(\"Movie Duration over the years\")\n",
    "plt.xlabel(\"Release Year\")\n",
    "plt.ylabel(\"Duration (minutes)\")\n",
    "\n",
    "plt.show()"
   ]
  },
  {
   "cell_type": "markdown",
   "id": "6f0b0b87-ff98-4b7d-8f1e-23c2d38c2bd8",
   "metadata": {},
   "source": [
    "### 7. Find the actual correlation value, is there any correlation?\n"
   ]
  },
  {
   "cell_type": "code",
   "execution_count": 19,
   "id": "fe49d71a-13f8-46b7-a4ed-1b40c6d977be",
   "metadata": {},
   "outputs": [
    {
     "name": "stdout",
     "output_type": "stream",
     "text": [
      "Correlation between release year and movie duration: 0.24\n"
     ]
    }
   ],
   "source": [
    "correlation = year_duration['release_year'].corr(year_duration['duration_minutes'])\n",
    "print(f\"Correlation between release year and movie duration: {correlation:.2f}\")"
   ]
  },
  {
   "cell_type": "markdown",
   "id": "ae29ac71-502f-4e7f-b1ca-b32ec81d7563",
   "metadata": {},
   "source": [
    "### 8. Use movies_df to find which year had the most G-rated releases. Can you do this in a single line of code?\n"
   ]
  },
  {
   "cell_type": "code",
   "execution_count": 21,
   "id": "8f6810ed-ea20-457e-ac8a-c57fb214f142",
   "metadata": {},
   "outputs": [
    {
     "name": "stdout",
     "output_type": "stream",
     "text": [
      "Year that had the most G-rated releases: 2003 with 12 G-rated movies\n"
     ]
    }
   ],
   "source": [
    "top_G_year = movies_df['release_year'][movies_df['rating'] == 'G'].value_counts().reset_index().head(1)\n",
    "\n",
    "year = top_G_year['release_year'][0]\n",
    "count = top_G_year['count'][0]\n",
    "\n",
    "print(f\"Year that had the most G-rated releases: {year} with {count} G-rated movies\")"
   ]
  },
  {
   "cell_type": "markdown",
   "id": "6e745ee5-bf33-40eb-9d04-afd29fffeb1c",
   "metadata": {},
   "source": [
    "### 9. Which year had the most movie releases?  What percentage of movies that year had durations over 2 hours?\n"
   ]
  },
  {
   "cell_type": "code",
   "execution_count": 23,
   "id": "36f7fc03-bad6-4325-afdb-a0ba9323dee1",
   "metadata": {},
   "outputs": [
    {
     "name": "stdout",
     "output_type": "stream",
     "text": [
      "Year that had the most releases: 2020 with 72 movies\n",
      "Percentage of movies for 2020 had durations over 2 hours: 6.94 %\n"
     ]
    }
   ],
   "source": [
    "releases_per_year = year_duration['release_year'].value_counts().reset_index().head(1)\n",
    "\n",
    "year = releases_per_year['release_year'][0]\n",
    "count = releases_per_year['count'][0]\n",
    "\n",
    "print(f\"Year that had the most releases: {year} with {count} movies\")\n",
    "\n",
    "duration_top_1_releases = year_duration[year_duration['release_year'] == year]\n",
    "prc_over_2_hours = len(duration_top_1_releases[duration_top_1_releases['duration_minutes'] > 120]) / len(duration_top_1_releases) * 100\n",
    "\n",
    "print(f\"Percentage of movies for {year} had durations over 2 hours: {prc_over_2_hours:.2f} %\")"
   ]
  },
  {
   "cell_type": "markdown",
   "id": "5f9c9f9d-7f99-4f6d-96f8-203f159f0c61",
   "metadata": {},
   "source": [
    "### 10. Create a new column in movies_df that catagorizes each movie as either short, average, or long.  Short movies should be 30 mins or less, long movies should be over 2 hours.\n"
   ]
  },
  {
   "cell_type": "code",
   "execution_count": 25,
   "id": "3cf9b475-5b26-4f92-9f56-a03b9664ebb3",
   "metadata": {},
   "outputs": [
    {
     "data": {
      "text/html": [
       "<div>\n",
       "<style scoped>\n",
       "    .dataframe tbody tr th:only-of-type {\n",
       "        vertical-align: middle;\n",
       "    }\n",
       "\n",
       "    .dataframe tbody tr th {\n",
       "        vertical-align: top;\n",
       "    }\n",
       "\n",
       "    .dataframe thead th {\n",
       "        text-align: right;\n",
       "    }\n",
       "</style>\n",
       "<table border=\"1\" class=\"dataframe\">\n",
       "  <thead>\n",
       "    <tr style=\"text-align: right;\">\n",
       "      <th></th>\n",
       "      <th>show_id</th>\n",
       "      <th>type</th>\n",
       "      <th>title</th>\n",
       "      <th>director</th>\n",
       "      <th>cast</th>\n",
       "      <th>country</th>\n",
       "      <th>date_added</th>\n",
       "      <th>release_year</th>\n",
       "      <th>rating</th>\n",
       "      <th>duration</th>\n",
       "      <th>listed_in</th>\n",
       "      <th>description</th>\n",
       "      <th>duration_minutes</th>\n",
       "    </tr>\n",
       "  </thead>\n",
       "  <tbody>\n",
       "    <tr>\n",
       "      <th>0</th>\n",
       "      <td>s1</td>\n",
       "      <td>Movie</td>\n",
       "      <td>A Spark Story</td>\n",
       "      <td>Jason Sterman, Leanne Dare</td>\n",
       "      <td>Apthon Corbin, Louis Gonzales</td>\n",
       "      <td>NaN</td>\n",
       "      <td>September 24, 2021</td>\n",
       "      <td>2021</td>\n",
       "      <td>TV-PG</td>\n",
       "      <td>88 min</td>\n",
       "      <td>Documentary</td>\n",
       "      <td>Two Pixar filmmakers strive to bring their uni...</td>\n",
       "      <td>88</td>\n",
       "    </tr>\n",
       "  </tbody>\n",
       "</table>\n",
       "</div>"
      ],
      "text/plain": [
       "  show_id   type          title                    director  \\\n",
       "0      s1  Movie  A Spark Story  Jason Sterman, Leanne Dare   \n",
       "\n",
       "                            cast country          date_added  release_year  \\\n",
       "0  Apthon Corbin, Louis Gonzales     NaN  September 24, 2021          2021   \n",
       "\n",
       "  rating duration    listed_in  \\\n",
       "0  TV-PG   88 min  Documentary   \n",
       "\n",
       "                                         description  duration_minutes  \n",
       "0  Two Pixar filmmakers strive to bring their uni...                88  "
      ]
     },
     "execution_count": 25,
     "metadata": {},
     "output_type": "execute_result"
    }
   ],
   "source": [
    "movies_df['duration_minutes'] = movies_df['duration'].apply(get_minutes)\n",
    "movies_df.head(1)"
   ]
  },
  {
   "cell_type": "code",
   "execution_count": 26,
   "id": "39e0e5bf-5f8e-42bd-8a34-4cf69bc5af57",
   "metadata": {},
   "outputs": [
    {
     "data": {
      "text/html": [
       "<div>\n",
       "<style scoped>\n",
       "    .dataframe tbody tr th:only-of-type {\n",
       "        vertical-align: middle;\n",
       "    }\n",
       "\n",
       "    .dataframe tbody tr th {\n",
       "        vertical-align: top;\n",
       "    }\n",
       "\n",
       "    .dataframe thead th {\n",
       "        text-align: right;\n",
       "    }\n",
       "</style>\n",
       "<table border=\"1\" class=\"dataframe\">\n",
       "  <thead>\n",
       "    <tr style=\"text-align: right;\">\n",
       "      <th></th>\n",
       "      <th>show_id</th>\n",
       "      <th>type</th>\n",
       "      <th>title</th>\n",
       "      <th>director</th>\n",
       "      <th>cast</th>\n",
       "      <th>country</th>\n",
       "      <th>date_added</th>\n",
       "      <th>release_year</th>\n",
       "      <th>rating</th>\n",
       "      <th>duration</th>\n",
       "      <th>listed_in</th>\n",
       "      <th>description</th>\n",
       "      <th>duration_minutes</th>\n",
       "      <th>duration_category</th>\n",
       "    </tr>\n",
       "  </thead>\n",
       "  <tbody>\n",
       "    <tr>\n",
       "      <th>0</th>\n",
       "      <td>s1</td>\n",
       "      <td>Movie</td>\n",
       "      <td>A Spark Story</td>\n",
       "      <td>Jason Sterman, Leanne Dare</td>\n",
       "      <td>Apthon Corbin, Louis Gonzales</td>\n",
       "      <td>NaN</td>\n",
       "      <td>September 24, 2021</td>\n",
       "      <td>2021</td>\n",
       "      <td>TV-PG</td>\n",
       "      <td>88 min</td>\n",
       "      <td>Documentary</td>\n",
       "      <td>Two Pixar filmmakers strive to bring their uni...</td>\n",
       "      <td>88</td>\n",
       "      <td>average</td>\n",
       "    </tr>\n",
       "  </tbody>\n",
       "</table>\n",
       "</div>"
      ],
      "text/plain": [
       "  show_id   type          title                    director  \\\n",
       "0      s1  Movie  A Spark Story  Jason Sterman, Leanne Dare   \n",
       "\n",
       "                            cast country          date_added  release_year  \\\n",
       "0  Apthon Corbin, Louis Gonzales     NaN  September 24, 2021          2021   \n",
       "\n",
       "  rating duration    listed_in  \\\n",
       "0  TV-PG   88 min  Documentary   \n",
       "\n",
       "                                         description  duration_minutes  \\\n",
       "0  Two Pixar filmmakers strive to bring their uni...                88   \n",
       "\n",
       "  duration_category  \n",
       "0           average  "
      ]
     },
     "execution_count": 26,
     "metadata": {},
     "output_type": "execute_result"
    }
   ],
   "source": [
    "def duration_category(minutes):\n",
    "    if minutes < 30:\n",
    "        return 'short'\n",
    "    elif minutes > 120:\n",
    "        return 'long'\n",
    "    else:\n",
    "        return 'average'\n",
    "\n",
    "movies_df['duration_category'] = movies_df['duration_minutes'].apply(duration_category)\n",
    "movies_df.head(1)"
   ]
  },
  {
   "cell_type": "markdown",
   "id": "f3d13d87-568c-4037-b08c-b7b6b31d7b66",
   "metadata": {},
   "source": [
    "### 11. Make a pie chart of the above movie lengths.\n"
   ]
  },
  {
   "cell_type": "code",
   "execution_count": 28,
   "id": "844092f6-f0e8-4b00-b1c4-12497be64ed9",
   "metadata": {},
   "outputs": [
    {
     "data": {
      "image/png": "[encoded data removed]",
      "text/plain": [
       "<Figure size 640x480 with 1 Axes>"
      ]
     },
     "metadata": {},
     "output_type": "display_data"
    }
   ],
   "source": [
    "size_of_groups = movies_df['duration_category'].value_counts()\n",
    "\n",
    "plt.pie(size_of_groups, labels=size_of_groups.index)\n",
    "plt.title('Movie duration categories')\n",
    "\n",
    "plt.show()"
   ]
  },
  {
   "cell_type": "markdown",
   "id": "e552657e-45d2-4510-943d-4576e2f6c36a",
   "metadata": {},
   "source": [
    "### 12. Which movie had the greatest gap from the year it was released to the year it was added?  What is the average number of years between release to being added?\n"
   ]
  },
  {
   "cell_type": "code",
   "execution_count": 30,
   "id": "7ef8d160-daa2-44fc-8e94-1baa42286c6a",
   "metadata": {},
   "outputs": [
    {
     "data": {
      "text/html": [
       "<div>\n",
       "<style scoped>\n",
       "    .dataframe tbody tr th:only-of-type {\n",
       "        vertical-align: middle;\n",
       "    }\n",
       "\n",
       "    .dataframe tbody tr th {\n",
       "        vertical-align: top;\n",
       "    }\n",
       "\n",
       "    .dataframe thead th {\n",
       "        text-align: right;\n",
       "    }\n",
       "</style>\n",
       "<table border=\"1\" class=\"dataframe\">\n",
       "  <thead>\n",
       "    <tr style=\"text-align: right;\">\n",
       "      <th></th>\n",
       "      <th>show_id</th>\n",
       "      <th>type</th>\n",
       "      <th>title</th>\n",
       "      <th>director</th>\n",
       "      <th>cast</th>\n",
       "      <th>country</th>\n",
       "      <th>date_added</th>\n",
       "      <th>release_year</th>\n",
       "      <th>rating</th>\n",
       "      <th>duration</th>\n",
       "      <th>listed_in</th>\n",
       "      <th>description</th>\n",
       "      <th>duration_minutes</th>\n",
       "      <th>duration_category</th>\n",
       "      <th>added_year</th>\n",
       "    </tr>\n",
       "  </thead>\n",
       "  <tbody>\n",
       "    <tr>\n",
       "      <th>0</th>\n",
       "      <td>s1</td>\n",
       "      <td>Movie</td>\n",
       "      <td>A Spark Story</td>\n",
       "      <td>Jason Sterman, Leanne Dare</td>\n",
       "      <td>Apthon Corbin, Louis Gonzales</td>\n",
       "      <td>NaN</td>\n",
       "      <td>2021-09-24</td>\n",
       "      <td>2021</td>\n",
       "      <td>TV-PG</td>\n",
       "      <td>88 min</td>\n",
       "      <td>Documentary</td>\n",
       "      <td>Two Pixar filmmakers strive to bring their uni...</td>\n",
       "      <td>88</td>\n",
       "      <td>average</td>\n",
       "      <td>2021</td>\n",
       "    </tr>\n",
       "  </tbody>\n",
       "</table>\n",
       "</div>"
      ],
      "text/plain": [
       "  show_id   type          title                    director  \\\n",
       "0      s1  Movie  A Spark Story  Jason Sterman, Leanne Dare   \n",
       "\n",
       "                            cast country date_added  release_year rating  \\\n",
       "0  Apthon Corbin, Louis Gonzales     NaN 2021-09-24          2021  TV-PG   \n",
       "\n",
       "  duration    listed_in                                        description  \\\n",
       "0   88 min  Documentary  Two Pixar filmmakers strive to bring their uni...   \n",
       "\n",
       "   duration_minutes duration_category  added_year  \n",
       "0                88           average        2021  "
      ]
     },
     "execution_count": 30,
     "metadata": {},
     "output_type": "execute_result"
    }
   ],
   "source": [
    "movies_df['date_added'] = pd.to_datetime(movies_df['date_added'])\n",
    "\n",
    "movies_df['added_year'] = movies_df['date_added'].dt.year\n",
    "movies_df.head(1)"
   ]
  },
  {
   "cell_type": "code",
   "execution_count": 31,
   "id": "f53b1ff6-6d57-4de5-b487-fb037ac08057",
   "metadata": {},
   "outputs": [
    {
     "data": {
      "text/html": [
       "<div>\n",
       "<style scoped>\n",
       "    .dataframe tbody tr th:only-of-type {\n",
       "        vertical-align: middle;\n",
       "    }\n",
       "\n",
       "    .dataframe tbody tr th {\n",
       "        vertical-align: top;\n",
       "    }\n",
       "\n",
       "    .dataframe thead th {\n",
       "        text-align: right;\n",
       "    }\n",
       "</style>\n",
       "<table border=\"1\" class=\"dataframe\">\n",
       "  <thead>\n",
       "    <tr style=\"text-align: right;\">\n",
       "      <th></th>\n",
       "      <th>show_id</th>\n",
       "      <th>type</th>\n",
       "      <th>title</th>\n",
       "      <th>director</th>\n",
       "      <th>cast</th>\n",
       "      <th>country</th>\n",
       "      <th>date_added</th>\n",
       "      <th>release_year</th>\n",
       "      <th>rating</th>\n",
       "      <th>duration</th>\n",
       "      <th>listed_in</th>\n",
       "      <th>description</th>\n",
       "      <th>duration_minutes</th>\n",
       "      <th>duration_category</th>\n",
       "      <th>added_year</th>\n",
       "      <th>gap_release_to_added</th>\n",
       "    </tr>\n",
       "  </thead>\n",
       "  <tbody>\n",
       "    <tr>\n",
       "      <th>0</th>\n",
       "      <td>s1</td>\n",
       "      <td>Movie</td>\n",
       "      <td>A Spark Story</td>\n",
       "      <td>Jason Sterman, Leanne Dare</td>\n",
       "      <td>Apthon Corbin, Louis Gonzales</td>\n",
       "      <td>NaN</td>\n",
       "      <td>2021-09-24</td>\n",
       "      <td>2021</td>\n",
       "      <td>TV-PG</td>\n",
       "      <td>88 min</td>\n",
       "      <td>Documentary</td>\n",
       "      <td>Two Pixar filmmakers strive to bring their uni...</td>\n",
       "      <td>88</td>\n",
       "      <td>average</td>\n",
       "      <td>2021</td>\n",
       "      <td>0</td>\n",
       "    </tr>\n",
       "  </tbody>\n",
       "</table>\n",
       "</div>"
      ],
      "text/plain": [
       "  show_id   type          title                    director  \\\n",
       "0      s1  Movie  A Spark Story  Jason Sterman, Leanne Dare   \n",
       "\n",
       "                            cast country date_added  release_year rating  \\\n",
       "0  Apthon Corbin, Louis Gonzales     NaN 2021-09-24          2021  TV-PG   \n",
       "\n",
       "  duration    listed_in                                        description  \\\n",
       "0   88 min  Documentary  Two Pixar filmmakers strive to bring their uni...   \n",
       "\n",
       "   duration_minutes duration_category  added_year  gap_release_to_added  \n",
       "0                88           average        2021                     0  "
      ]
     },
     "execution_count": 31,
     "metadata": {},
     "output_type": "execute_result"
    }
   ],
   "source": [
    "movies_df['gap_release_to_added'] = movies_df['added_year'] - movies_df['release_year']\n",
    "movies_df.head(1)"
   ]
  },
  {
   "cell_type": "code",
   "execution_count": 32,
   "id": "2d14e4e0-4ee1-4a5c-9643-429185a79012",
   "metadata": {},
   "outputs": [
    {
     "name": "stdout",
     "output_type": "stream",
     "text": [
      "Movie that had the greatest gap from the year it was released to the year it was added: \"Steamboat Willie\" with gap 91 years\n"
     ]
    }
   ],
   "source": [
    "movie_with_greatest_gap = movies_df.sort_values('gap_release_to_added', ascending=False).reset_index().head(1)\n",
    "\n",
    "title = movie_with_greatest_gap['title'][0]\n",
    "gap = movie_with_greatest_gap['gap_release_to_added'][0]\n",
    "\n",
    "print(f\"Movie that had the greatest gap from the year it was released to the year it was added: \\\"{title}\\\" with gap {gap} years\")"
   ]
  },
  {
   "cell_type": "markdown",
   "id": "ad527d0c-239d-4f5d-bcc2-56f4b7006a9f",
   "metadata": {},
   "source": [
    "### 13. How many movies were added during the first year after the pandemic lockdown? (Assume the lockdown began on March 16, 2020)\n"
   ]
  },
  {
   "cell_type": "code",
   "execution_count": 34,
   "id": "3924e720-5e6f-445e-9328-a3b38e0fa512",
   "metadata": {},
   "outputs": [
    {
     "data": {
      "text/html": [
       "<div>\n",
       "<style scoped>\n",
       "    .dataframe tbody tr th:only-of-type {\n",
       "        vertical-align: middle;\n",
       "    }\n",
       "\n",
       "    .dataframe tbody tr th {\n",
       "        vertical-align: top;\n",
       "    }\n",
       "\n",
       "    .dataframe thead th {\n",
       "        text-align: right;\n",
       "    }\n",
       "</style>\n",
       "<table border=\"1\" class=\"dataframe\">\n",
       "  <thead>\n",
       "    <tr style=\"text-align: right;\">\n",
       "      <th></th>\n",
       "      <th>index</th>\n",
       "      <th>show_id</th>\n",
       "      <th>type</th>\n",
       "      <th>title</th>\n",
       "      <th>director</th>\n",
       "      <th>cast</th>\n",
       "      <th>country</th>\n",
       "      <th>date_added</th>\n",
       "      <th>release_year</th>\n",
       "      <th>rating</th>\n",
       "      <th>duration</th>\n",
       "      <th>listed_in</th>\n",
       "      <th>description</th>\n",
       "      <th>duration_minutes</th>\n",
       "      <th>duration_category</th>\n",
       "      <th>added_year</th>\n",
       "      <th>gap_release_to_added</th>\n",
       "    </tr>\n",
       "  </thead>\n",
       "  <tbody>\n",
       "    <tr>\n",
       "      <th>0</th>\n",
       "      <td>196</td>\n",
       "      <td>s197</td>\n",
       "      <td>Movie</td>\n",
       "      <td>Doc McStuffins: The Doc Is In</td>\n",
       "      <td>Chris Hamilton</td>\n",
       "      <td>Laya DeLeon Hayes, Loretta Devine, Lara Jill M...</td>\n",
       "      <td>NaN</td>\n",
       "      <td>2021-03-12</td>\n",
       "      <td>2020</td>\n",
       "      <td>TV-Y</td>\n",
       "      <td>24 min</td>\n",
       "      <td>Animation, Kids, Medical</td>\n",
       "      <td>Doc McStuffins helps kids learn about healthy ...</td>\n",
       "      <td>24</td>\n",
       "      <td>short</td>\n",
       "      <td>2021</td>\n",
       "      <td>1</td>\n",
       "    </tr>\n",
       "  </tbody>\n",
       "</table>\n",
       "</div>"
      ],
      "text/plain": [
       "   index show_id   type                          title        director  \\\n",
       "0    196    s197  Movie  Doc McStuffins: The Doc Is In  Chris Hamilton   \n",
       "\n",
       "                                                cast country date_added  \\\n",
       "0  Laya DeLeon Hayes, Loretta Devine, Lara Jill M...     NaN 2021-03-12   \n",
       "\n",
       "   release_year rating duration                 listed_in  \\\n",
       "0          2020   TV-Y   24 min  Animation, Kids, Medical   \n",
       "\n",
       "                                         description  duration_minutes  \\\n",
       "0  Doc McStuffins helps kids learn about healthy ...                24   \n",
       "\n",
       "  duration_category  added_year  gap_release_to_added  \n",
       "0             short        2021                     1  "
      ]
     },
     "execution_count": 34,
     "metadata": {},
     "output_type": "execute_result"
    }
   ],
   "source": [
    "movies_first_year_pandemic_df = movies_df[(movies_df['date_added'] > '2020-03-15') & (movies_df['date_added'] < '2021-03-17')].reset_index().copy()\n",
    "movies_first_year_pandemic_df.head(1)"
   ]
  },
  {
   "cell_type": "code",
   "execution_count": 35,
   "id": "88a1b2a2-69db-47eb-83fe-7849294e17b0",
   "metadata": {},
   "outputs": [
    {
     "name": "stdout",
     "output_type": "stream",
     "text": [
      "Movies were added during the first year after the pandemic lockdown: 211\n"
     ]
    }
   ],
   "source": [
    "num_movies_pandemic = len(movies_first_year_pandemic_df)\n",
    "print(f\"Movies were added during the first year after the pandemic lockdown: {num_movies_pandemic}\")"
   ]
  },
  {
   "cell_type": "markdown",
   "id": "ebeb1e20-bf19-4f1a-be75-9996095ad90a",
   "metadata": {},
   "source": [
    "### 14. How many movies have been added on your birthday?\n"
   ]
  },
  {
   "cell_type": "code",
   "execution_count": 37,
   "id": "3f48c996-e8ed-46b1-8199-01ee6c64cfb4",
   "metadata": {},
   "outputs": [
    {
     "name": "stdout",
     "output_type": "stream",
     "text": [
      "Movies were added when I was born: 0 (2003-05-11)\n"
     ]
    }
   ],
   "source": [
    "movies_my_full_birthday_df = movies_df[movies_df['date_added'] == '2003-05-11'].reset_index().copy()\n",
    "num_movies_full_birthday = len(movies_my_full_birthday_df)\n",
    "print(f\"Movies were added when I was born: {num_movies_full_birthday} (2003-05-11)\")"
   ]
  },
  {
   "cell_type": "code",
   "execution_count": 38,
   "id": "09f35724-bb17-4be8-ae81-9501ec02ab86",
   "metadata": {},
   "outputs": [
    {
     "data": {
      "text/html": [
       "<div>\n",
       "<style scoped>\n",
       "    .dataframe tbody tr th:only-of-type {\n",
       "        vertical-align: middle;\n",
       "    }\n",
       "\n",
       "    .dataframe tbody tr th {\n",
       "        vertical-align: top;\n",
       "    }\n",
       "\n",
       "    .dataframe thead th {\n",
       "        text-align: right;\n",
       "    }\n",
       "</style>\n",
       "<table border=\"1\" class=\"dataframe\">\n",
       "  <thead>\n",
       "    <tr style=\"text-align: right;\">\n",
       "      <th></th>\n",
       "      <th>show_id</th>\n",
       "      <th>type</th>\n",
       "      <th>title</th>\n",
       "      <th>director</th>\n",
       "      <th>cast</th>\n",
       "      <th>country</th>\n",
       "      <th>date_added</th>\n",
       "      <th>release_year</th>\n",
       "      <th>rating</th>\n",
       "      <th>duration</th>\n",
       "      <th>listed_in</th>\n",
       "      <th>description</th>\n",
       "      <th>duration_minutes</th>\n",
       "      <th>duration_category</th>\n",
       "      <th>added_year</th>\n",
       "      <th>gap_release_to_added</th>\n",
       "      <th>month_day_added</th>\n",
       "    </tr>\n",
       "  </thead>\n",
       "  <tbody>\n",
       "    <tr>\n",
       "      <th>0</th>\n",
       "      <td>s1</td>\n",
       "      <td>Movie</td>\n",
       "      <td>A Spark Story</td>\n",
       "      <td>Jason Sterman, Leanne Dare</td>\n",
       "      <td>Apthon Corbin, Louis Gonzales</td>\n",
       "      <td>NaN</td>\n",
       "      <td>2021-09-24</td>\n",
       "      <td>2021</td>\n",
       "      <td>TV-PG</td>\n",
       "      <td>88 min</td>\n",
       "      <td>Documentary</td>\n",
       "      <td>Two Pixar filmmakers strive to bring their uni...</td>\n",
       "      <td>88</td>\n",
       "      <td>average</td>\n",
       "      <td>2021</td>\n",
       "      <td>0</td>\n",
       "      <td>09-24</td>\n",
       "    </tr>\n",
       "  </tbody>\n",
       "</table>\n",
       "</div>"
      ],
      "text/plain": [
       "  show_id   type          title                    director  \\\n",
       "0      s1  Movie  A Spark Story  Jason Sterman, Leanne Dare   \n",
       "\n",
       "                            cast country date_added  release_year rating  \\\n",
       "0  Apthon Corbin, Louis Gonzales     NaN 2021-09-24          2021  TV-PG   \n",
       "\n",
       "  duration    listed_in                                        description  \\\n",
       "0   88 min  Documentary  Two Pixar filmmakers strive to bring their uni...   \n",
       "\n",
       "   duration_minutes duration_category  added_year  gap_release_to_added  \\\n",
       "0                88           average        2021                     0   \n",
       "\n",
       "  month_day_added  \n",
       "0           09-24  "
      ]
     },
     "execution_count": 38,
     "metadata": {},
     "output_type": "execute_result"
    }
   ],
   "source": [
    "movies_df['month_day_added'] = movies_df['date_added'].dt.strftime('%m-%d')\n",
    "movies_df.head(1)"
   ]
  },
  {
   "cell_type": "code",
   "execution_count": 39,
   "id": "af582030-4e91-44b5-ab11-ab9f5a89b890",
   "metadata": {},
   "outputs": [
    {
     "name": "stdout",
     "output_type": "stream",
     "text": [
      "Movies were added on my birthday: 0 (05-11)\n"
     ]
    }
   ],
   "source": [
    "movies_my_birthday_df = movies_df[movies_df['month_day_added'] == '05-11'].reset_index().copy()\n",
    "num_movies_birthday = len(movies_my_birthday_df)\n",
    "print(f\"Movies were added on my birthday: {num_movies_birthday} (05-11)\")"
   ]
  },
  {
   "cell_type": "markdown",
   "id": "5876037c-07c6-44b9-ac4b-092e6d3e7227",
   "metadata": {},
   "source": [
    "### 15. How many TV shows or Movies have the word 'dog' in the title regardless if it is capitalized?"
   ]
  },
  {
   "cell_type": "code",
   "execution_count": 41,
   "id": "e1787a3e-7282-41a4-8153-94637e76470b",
   "metadata": {},
   "outputs": [
    {
     "name": "stdout",
     "output_type": "stream",
     "text": [
      "Amount of TV shows or Movies that have the word \"dog\" in the title: 7\n"
     ]
    }
   ],
   "source": [
    "dog_title_df = movies_df[movies_df['title'].str.lower().str.contains(r'\\bdog\\b')]\n",
    "dog_title_num = len(dog_title_df)\n",
    "print(f\"Amount of TV shows or Movies that have the word \\\"dog\\\" in the title: {dog_title_num}\")"
   ]
  }
 ],
 "metadata": {
  "kernelspec": {
   "display_name": "Python [conda env:base] *",
   "language": "python",
   "name": "conda-base-py"
  },
  "language_info": {
   "codemirror_mode": {
    "name": "ipython",
    "version": 3
   },
   "file_extension": ".py",
   "mimetype": "text/x-python",
   "name": "python",
   "nbconvert_exporter": "python",
   "pygments_lexer": "ipython3",
   "version": "3.12.7"
  }
 },
 "nbformat": 4,
 "nbformat_minor": 5
}
