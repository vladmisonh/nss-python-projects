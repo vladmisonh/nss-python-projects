{
 "cells": [
  {
   "cell_type": "markdown",
   "id": "16b91b84-f12c-4536-9e9e-25bc7accedc5",
   "metadata": {},
   "source": [
    "## UNData API Exercise\n",
    "\n",
    "In this exercise, you'll redo the data gathering phase of the UNData Exploration project by using APIs instead of downloading csv files.\n",
    "\n",
    "You'll make use of the [World Bank Indicators API](https://datahelpdesk.worldbank.org/knowledgebase/articles/889392-about-the-indicators-api-documentation). Note that this API does not require an API key. Before attempting the exercise, it would be a good idea to skim through the Documentation page and to check out the [Basic Call Structure article](https://datahelpdesk.worldbank.org/knowledgebase/articles/898581).\n"
   ]
  },
  {
   "cell_type": "code",
   "execution_count": 2,
   "id": "aa1e4727-0e00-47dd-a836-a4149fa00110",
   "metadata": {},
   "outputs": [],
   "source": [
    "import requests\n",
    "import pandas as pd"
   ]
  },
  {
   "cell_type": "markdown",
   "id": "b6e1d9e9-234c-48a5-9abf-18fabfcc58c8",
   "metadata": {},
   "source": [
    "1. Use the API to get all available data for the _GDP per capita, PPP (constant 2017 international $)_ indicator. Hint: this indicator has code \"NY.GDP.PCAP.PP.KD\". Adjust the query parameters so that you can retrieve all available rows. Convert the results to a DataFrame.\n"
   ]
  },
  {
   "cell_type": "code",
   "execution_count": 4,
   "id": "e3751e91-d909-4fa9-b0e5-cae13509287b",
   "metadata": {},
   "outputs": [],
   "source": [
    "endpoint = 'https://api.worldbank.org/v2/country/all/indicator/NY.GDP.PCAP.PP.KD?format=json'\n",
    "\n",
    "response = requests.get(endpoint)"
   ]
  },
  {
   "cell_type": "code",
   "execution_count": 5,
   "id": "2bc6979a-0b04-495a-8ee3-92135d540977",
   "metadata": {},
   "outputs": [
    {
     "data": {
      "text/plain": [
       "<Response [200]>"
      ]
     },
     "execution_count": 5,
     "metadata": {},
     "output_type": "execute_result"
    }
   ],
   "source": [
    "response"
   ]
  },
  {
   "cell_type": "code",
   "execution_count": 6,
   "id": "705bd23c-0fcb-43d4-9a2b-e5c802a3a3f4",
   "metadata": {
    "scrolled": true
   },
   "outputs": [],
   "source": [
    "# response.text"
   ]
  },
  {
   "cell_type": "code",
   "execution_count": 7,
   "id": "e1199cf9-e1cc-441e-a323-4d548d5eeab3",
   "metadata": {
    "scrolled": true
   },
   "outputs": [],
   "source": [
    "res = response.json()\n",
    "# res"
   ]
  },
  {
   "cell_type": "code",
   "execution_count": 8,
   "id": "0dc1a80c-3504-4e2a-9da7-ac31ee54e502",
   "metadata": {},
   "outputs": [
    {
     "data": {
      "text/html": [
       "<div>\n",
       "<style scoped>\n",
       "    .dataframe tbody tr th:only-of-type {\n",
       "        vertical-align: middle;\n",
       "    }\n",
       "\n",
       "    .dataframe tbody tr th {\n",
       "        vertical-align: top;\n",
       "    }\n",
       "\n",
       "    .dataframe thead th {\n",
       "        text-align: right;\n",
       "    }\n",
       "</style>\n",
       "<table border=\"1\" class=\"dataframe\">\n",
       "  <thead>\n",
       "    <tr style=\"text-align: right;\">\n",
       "      <th></th>\n",
       "      <th>countryiso3code</th>\n",
       "      <th>date</th>\n",
       "      <th>value</th>\n",
       "      <th>unit</th>\n",
       "      <th>obs_status</th>\n",
       "      <th>decimal</th>\n",
       "      <th>indicator.id</th>\n",
       "      <th>indicator.value</th>\n",
       "      <th>country.id</th>\n",
       "      <th>country.value</th>\n",
       "    </tr>\n",
       "  </thead>\n",
       "  <tbody>\n",
       "    <tr>\n",
       "      <th>0</th>\n",
       "      <td>AFE</td>\n",
       "      <td>2024</td>\n",
       "      <td>NaN</td>\n",
       "      <td></td>\n",
       "      <td></td>\n",
       "      <td>0</td>\n",
       "      <td>NY.GDP.PCAP.PP.KD</td>\n",
       "      <td>GDP per capita, PPP (constant 2021 internation...</td>\n",
       "      <td>ZH</td>\n",
       "      <td>Africa Eastern and Southern</td>\n",
       "    </tr>\n",
       "    <tr>\n",
       "      <th>1</th>\n",
       "      <td>AFE</td>\n",
       "      <td>2023</td>\n",
       "      <td>3967.860937</td>\n",
       "      <td></td>\n",
       "      <td></td>\n",
       "      <td>0</td>\n",
       "      <td>NY.GDP.PCAP.PP.KD</td>\n",
       "      <td>GDP per capita, PPP (constant 2021 internation...</td>\n",
       "      <td>ZH</td>\n",
       "      <td>Africa Eastern and Southern</td>\n",
       "    </tr>\n",
       "    <tr>\n",
       "      <th>2</th>\n",
       "      <td>AFE</td>\n",
       "      <td>2022</td>\n",
       "      <td>3974.803045</td>\n",
       "      <td></td>\n",
       "      <td></td>\n",
       "      <td>0</td>\n",
       "      <td>NY.GDP.PCAP.PP.KD</td>\n",
       "      <td>GDP per capita, PPP (constant 2021 internation...</td>\n",
       "      <td>ZH</td>\n",
       "      <td>Africa Eastern and Southern</td>\n",
       "    </tr>\n",
       "    <tr>\n",
       "      <th>3</th>\n",
       "      <td>AFE</td>\n",
       "      <td>2021</td>\n",
       "      <td>3934.287267</td>\n",
       "      <td></td>\n",
       "      <td></td>\n",
       "      <td>0</td>\n",
       "      <td>NY.GDP.PCAP.PP.KD</td>\n",
       "      <td>GDP per capita, PPP (constant 2021 internation...</td>\n",
       "      <td>ZH</td>\n",
       "      <td>Africa Eastern and Southern</td>\n",
       "    </tr>\n",
       "    <tr>\n",
       "      <th>4</th>\n",
       "      <td>AFE</td>\n",
       "      <td>2020</td>\n",
       "      <td>3861.111238</td>\n",
       "      <td></td>\n",
       "      <td></td>\n",
       "      <td>0</td>\n",
       "      <td>NY.GDP.PCAP.PP.KD</td>\n",
       "      <td>GDP per capita, PPP (constant 2021 internation...</td>\n",
       "      <td>ZH</td>\n",
       "      <td>Africa Eastern and Southern</td>\n",
       "    </tr>\n",
       "  </tbody>\n",
       "</table>\n",
       "</div>"
      ],
      "text/plain": [
       "  countryiso3code  date        value unit obs_status  decimal  \\\n",
       "0             AFE  2024          NaN                        0   \n",
       "1             AFE  2023  3967.860937                        0   \n",
       "2             AFE  2022  3974.803045                        0   \n",
       "3             AFE  2021  3934.287267                        0   \n",
       "4             AFE  2020  3861.111238                        0   \n",
       "\n",
       "        indicator.id                                    indicator.value  \\\n",
       "0  NY.GDP.PCAP.PP.KD  GDP per capita, PPP (constant 2021 internation...   \n",
       "1  NY.GDP.PCAP.PP.KD  GDP per capita, PPP (constant 2021 internation...   \n",
       "2  NY.GDP.PCAP.PP.KD  GDP per capita, PPP (constant 2021 internation...   \n",
       "3  NY.GDP.PCAP.PP.KD  GDP per capita, PPP (constant 2021 internation...   \n",
       "4  NY.GDP.PCAP.PP.KD  GDP per capita, PPP (constant 2021 internation...   \n",
       "\n",
       "  country.id                country.value  \n",
       "0         ZH  Africa Eastern and Southern  \n",
       "1         ZH  Africa Eastern and Southern  \n",
       "2         ZH  Africa Eastern and Southern  \n",
       "3         ZH  Africa Eastern and Southern  \n",
       "4         ZH  Africa Eastern and Southern  "
      ]
     },
     "execution_count": 8,
     "metadata": {},
     "output_type": "execute_result"
    }
   ],
   "source": [
    "capita_df = pd.json_normalize(res[1])\n",
    "\n",
    "capita_df.head()"
   ]
  },
  {
   "cell_type": "code",
   "execution_count": 9,
   "id": "e60fb50d-7375-4cd7-b4f7-1e024be34386",
   "metadata": {},
   "outputs": [
    {
     "data": {
      "text/html": [
       "<div>\n",
       "<style scoped>\n",
       "    .dataframe tbody tr th:only-of-type {\n",
       "        vertical-align: middle;\n",
       "    }\n",
       "\n",
       "    .dataframe tbody tr th {\n",
       "        vertical-align: top;\n",
       "    }\n",
       "\n",
       "    .dataframe thead th {\n",
       "        text-align: right;\n",
       "    }\n",
       "</style>\n",
       "<table border=\"1\" class=\"dataframe\">\n",
       "  <thead>\n",
       "    <tr style=\"text-align: right;\">\n",
       "      <th></th>\n",
       "      <th>country</th>\n",
       "      <th>country_code</th>\n",
       "      <th>year</th>\n",
       "      <th>gdp_per_capita</th>\n",
       "    </tr>\n",
       "  </thead>\n",
       "  <tbody>\n",
       "    <tr>\n",
       "      <th>0</th>\n",
       "      <td>Africa Eastern and Southern</td>\n",
       "      <td>AFE</td>\n",
       "      <td>2024</td>\n",
       "      <td>NaN</td>\n",
       "    </tr>\n",
       "    <tr>\n",
       "      <th>1</th>\n",
       "      <td>Africa Eastern and Southern</td>\n",
       "      <td>AFE</td>\n",
       "      <td>2023</td>\n",
       "      <td>3967.860937</td>\n",
       "    </tr>\n",
       "    <tr>\n",
       "      <th>2</th>\n",
       "      <td>Africa Eastern and Southern</td>\n",
       "      <td>AFE</td>\n",
       "      <td>2022</td>\n",
       "      <td>3974.803045</td>\n",
       "    </tr>\n",
       "    <tr>\n",
       "      <th>3</th>\n",
       "      <td>Africa Eastern and Southern</td>\n",
       "      <td>AFE</td>\n",
       "      <td>2021</td>\n",
       "      <td>3934.287267</td>\n",
       "    </tr>\n",
       "    <tr>\n",
       "      <th>4</th>\n",
       "      <td>Africa Eastern and Southern</td>\n",
       "      <td>AFE</td>\n",
       "      <td>2020</td>\n",
       "      <td>3861.111238</td>\n",
       "    </tr>\n",
       "  </tbody>\n",
       "</table>\n",
       "</div>"
      ],
      "text/plain": [
       "                       country country_code  year  gdp_per_capita\n",
       "0  Africa Eastern and Southern          AFE  2024             NaN\n",
       "1  Africa Eastern and Southern          AFE  2023     3967.860937\n",
       "2  Africa Eastern and Southern          AFE  2022     3974.803045\n",
       "3  Africa Eastern and Southern          AFE  2021     3934.287267\n",
       "4  Africa Eastern and Southern          AFE  2020     3861.111238"
      ]
     },
     "execution_count": 9,
     "metadata": {},
     "output_type": "execute_result"
    }
   ],
   "source": [
    "cleaned_capita_df = pd.DataFrame({\n",
    "    'country': capita_df['country.value'],\n",
    "    'country_code': capita_df['countryiso3code'],\n",
    "    'year': capita_df['date'],\n",
    "    'gdp_per_capita': capita_df['value']\n",
    "})\n",
    "\n",
    "cleaned_capita_df.head()"
   ]
  },
  {
   "cell_type": "markdown",
   "id": "8d7b1f27-5002-497d-b519-d676ea5e2010",
   "metadata": {},
   "source": [
    "2. Now, use the API to get all available data for _Life expectancy at birth, total (years)_. This indicator has code \"SP.DYN.LE00.IN\". Again, convert the results to a DataFrame.\n"
   ]
  },
  {
   "cell_type": "code",
   "execution_count": 11,
   "id": "fabe9c82-88cd-4ebd-b1b7-ee062bad6516",
   "metadata": {},
   "outputs": [],
   "source": [
    "endpoint = 'https://api.worldbank.org/v2/country/all/indicator/SP.DYN.LE00.IN?format=json'\n",
    "\n",
    "response = requests.get(endpoint)"
   ]
  },
  {
   "cell_type": "code",
   "execution_count": 12,
   "id": "154d5a46-92f6-43a9-89f6-886013ea4d5c",
   "metadata": {},
   "outputs": [],
   "source": [
    "res = response.json()\n",
    "# res"
   ]
  },
  {
   "cell_type": "code",
   "execution_count": 13,
   "id": "34343fbd-06f7-4d49-8e06-3d38625a6372",
   "metadata": {},
   "outputs": [
    {
     "data": {
      "text/html": [
       "<div>\n",
       "<style scoped>\n",
       "    .dataframe tbody tr th:only-of-type {\n",
       "        vertical-align: middle;\n",
       "    }\n",
       "\n",
       "    .dataframe tbody tr th {\n",
       "        vertical-align: top;\n",
       "    }\n",
       "\n",
       "    .dataframe thead th {\n",
       "        text-align: right;\n",
       "    }\n",
       "</style>\n",
       "<table border=\"1\" class=\"dataframe\">\n",
       "  <thead>\n",
       "    <tr style=\"text-align: right;\">\n",
       "      <th></th>\n",
       "      <th>countryiso3code</th>\n",
       "      <th>date</th>\n",
       "      <th>value</th>\n",
       "      <th>unit</th>\n",
       "      <th>obs_status</th>\n",
       "      <th>decimal</th>\n",
       "      <th>indicator.id</th>\n",
       "      <th>indicator.value</th>\n",
       "      <th>country.id</th>\n",
       "      <th>country.value</th>\n",
       "    </tr>\n",
       "  </thead>\n",
       "  <tbody>\n",
       "    <tr>\n",
       "      <th>0</th>\n",
       "      <td>AFE</td>\n",
       "      <td>2024</td>\n",
       "      <td>NaN</td>\n",
       "      <td></td>\n",
       "      <td></td>\n",
       "      <td>0</td>\n",
       "      <td>SP.DYN.LE00.IN</td>\n",
       "      <td>Life expectancy at birth, total (years)</td>\n",
       "      <td>ZH</td>\n",
       "      <td>Africa Eastern and Southern</td>\n",
       "    </tr>\n",
       "    <tr>\n",
       "      <th>1</th>\n",
       "      <td>AFE</td>\n",
       "      <td>2023</td>\n",
       "      <td>65.146291</td>\n",
       "      <td></td>\n",
       "      <td></td>\n",
       "      <td>0</td>\n",
       "      <td>SP.DYN.LE00.IN</td>\n",
       "      <td>Life expectancy at birth, total (years)</td>\n",
       "      <td>ZH</td>\n",
       "      <td>Africa Eastern and Southern</td>\n",
       "    </tr>\n",
       "    <tr>\n",
       "      <th>2</th>\n",
       "      <td>AFE</td>\n",
       "      <td>2022</td>\n",
       "      <td>64.487020</td>\n",
       "      <td></td>\n",
       "      <td></td>\n",
       "      <td>0</td>\n",
       "      <td>SP.DYN.LE00.IN</td>\n",
       "      <td>Life expectancy at birth, total (years)</td>\n",
       "      <td>ZH</td>\n",
       "      <td>Africa Eastern and Southern</td>\n",
       "    </tr>\n",
       "    <tr>\n",
       "      <th>3</th>\n",
       "      <td>AFE</td>\n",
       "      <td>2021</td>\n",
       "      <td>62.979999</td>\n",
       "      <td></td>\n",
       "      <td></td>\n",
       "      <td>0</td>\n",
       "      <td>SP.DYN.LE00.IN</td>\n",
       "      <td>Life expectancy at birth, total (years)</td>\n",
       "      <td>ZH</td>\n",
       "      <td>Africa Eastern and Southern</td>\n",
       "    </tr>\n",
       "    <tr>\n",
       "      <th>4</th>\n",
       "      <td>AFE</td>\n",
       "      <td>2020</td>\n",
       "      <td>63.766484</td>\n",
       "      <td></td>\n",
       "      <td></td>\n",
       "      <td>0</td>\n",
       "      <td>SP.DYN.LE00.IN</td>\n",
       "      <td>Life expectancy at birth, total (years)</td>\n",
       "      <td>ZH</td>\n",
       "      <td>Africa Eastern and Southern</td>\n",
       "    </tr>\n",
       "  </tbody>\n",
       "</table>\n",
       "</div>"
      ],
      "text/plain": [
       "  countryiso3code  date      value unit obs_status  decimal    indicator.id  \\\n",
       "0             AFE  2024        NaN                        0  SP.DYN.LE00.IN   \n",
       "1             AFE  2023  65.146291                        0  SP.DYN.LE00.IN   \n",
       "2             AFE  2022  64.487020                        0  SP.DYN.LE00.IN   \n",
       "3             AFE  2021  62.979999                        0  SP.DYN.LE00.IN   \n",
       "4             AFE  2020  63.766484                        0  SP.DYN.LE00.IN   \n",
       "\n",
       "                           indicator.value country.id  \\\n",
       "0  Life expectancy at birth, total (years)         ZH   \n",
       "1  Life expectancy at birth, total (years)         ZH   \n",
       "2  Life expectancy at birth, total (years)         ZH   \n",
       "3  Life expectancy at birth, total (years)         ZH   \n",
       "4  Life expectancy at birth, total (years)         ZH   \n",
       "\n",
       "                 country.value  \n",
       "0  Africa Eastern and Southern  \n",
       "1  Africa Eastern and Southern  \n",
       "2  Africa Eastern and Southern  \n",
       "3  Africa Eastern and Southern  \n",
       "4  Africa Eastern and Southern  "
      ]
     },
     "execution_count": 13,
     "metadata": {},
     "output_type": "execute_result"
    }
   ],
   "source": [
    "life_exp_df = pd.json_normalize(res[1])\n",
    "life_exp_df.head()"
   ]
  },
  {
   "cell_type": "code",
   "execution_count": 14,
   "id": "f165fab4-ba70-412a-8dec-701de3a1080c",
   "metadata": {},
   "outputs": [
    {
     "data": {
      "text/html": [
       "<div>\n",
       "<style scoped>\n",
       "    .dataframe tbody tr th:only-of-type {\n",
       "        vertical-align: middle;\n",
       "    }\n",
       "\n",
       "    .dataframe tbody tr th {\n",
       "        vertical-align: top;\n",
       "    }\n",
       "\n",
       "    .dataframe thead th {\n",
       "        text-align: right;\n",
       "    }\n",
       "</style>\n",
       "<table border=\"1\" class=\"dataframe\">\n",
       "  <thead>\n",
       "    <tr style=\"text-align: right;\">\n",
       "      <th></th>\n",
       "      <th>country</th>\n",
       "      <th>country_code</th>\n",
       "      <th>year</th>\n",
       "      <th>life_expectancy</th>\n",
       "    </tr>\n",
       "  </thead>\n",
       "  <tbody>\n",
       "    <tr>\n",
       "      <th>0</th>\n",
       "      <td>Africa Eastern and Southern</td>\n",
       "      <td>AFE</td>\n",
       "      <td>2024</td>\n",
       "      <td>NaN</td>\n",
       "    </tr>\n",
       "    <tr>\n",
       "      <th>1</th>\n",
       "      <td>Africa Eastern and Southern</td>\n",
       "      <td>AFE</td>\n",
       "      <td>2023</td>\n",
       "      <td>3967.860937</td>\n",
       "    </tr>\n",
       "    <tr>\n",
       "      <th>2</th>\n",
       "      <td>Africa Eastern and Southern</td>\n",
       "      <td>AFE</td>\n",
       "      <td>2022</td>\n",
       "      <td>3974.803045</td>\n",
       "    </tr>\n",
       "    <tr>\n",
       "      <th>3</th>\n",
       "      <td>Africa Eastern and Southern</td>\n",
       "      <td>AFE</td>\n",
       "      <td>2021</td>\n",
       "      <td>3934.287267</td>\n",
       "    </tr>\n",
       "    <tr>\n",
       "      <th>4</th>\n",
       "      <td>Africa Eastern and Southern</td>\n",
       "      <td>AFE</td>\n",
       "      <td>2020</td>\n",
       "      <td>3861.111238</td>\n",
       "    </tr>\n",
       "  </tbody>\n",
       "</table>\n",
       "</div>"
      ],
      "text/plain": [
       "                       country country_code  year  life_expectancy\n",
       "0  Africa Eastern and Southern          AFE  2024              NaN\n",
       "1  Africa Eastern and Southern          AFE  2023      3967.860937\n",
       "2  Africa Eastern and Southern          AFE  2022      3974.803045\n",
       "3  Africa Eastern and Southern          AFE  2021      3934.287267\n",
       "4  Africa Eastern and Southern          AFE  2020      3861.111238"
      ]
     },
     "execution_count": 14,
     "metadata": {},
     "output_type": "execute_result"
    }
   ],
   "source": [
    "cleaned_life_exp_df = pd.DataFrame({\n",
    "    'country': capita_df['country.value'],\n",
    "    'country_code': capita_df['countryiso3code'],\n",
    "    'year': capita_df['date'],\n",
    "    'life_expectancy': capita_df['value']\n",
    "})\n",
    "\n",
    "cleaned_life_exp_df.head()"
   ]
  },
  {
   "cell_type": "markdown",
   "id": "d362af51-3435-4022-b00b-3c076fde8e35",
   "metadata": {},
   "source": [
    "3. Merge the two results DataFrames together. You may want to rename or drop columns prior to merging.\n"
   ]
  },
  {
   "cell_type": "code",
   "execution_count": 16,
   "id": "c24c2400-df8d-4666-b2c5-52884b384a18",
   "metadata": {},
   "outputs": [
    {
     "data": {
      "text/html": [
       "<div>\n",
       "<style scoped>\n",
       "    .dataframe tbody tr th:only-of-type {\n",
       "        vertical-align: middle;\n",
       "    }\n",
       "\n",
       "    .dataframe tbody tr th {\n",
       "        vertical-align: top;\n",
       "    }\n",
       "\n",
       "    .dataframe thead th {\n",
       "        text-align: right;\n",
       "    }\n",
       "</style>\n",
       "<table border=\"1\" class=\"dataframe\">\n",
       "  <thead>\n",
       "    <tr style=\"text-align: right;\">\n",
       "      <th></th>\n",
       "      <th>country</th>\n",
       "      <th>country_code</th>\n",
       "      <th>year</th>\n",
       "      <th>gdp_per_capita</th>\n",
       "      <th>life_expectancy</th>\n",
       "    </tr>\n",
       "  </thead>\n",
       "  <tbody>\n",
       "    <tr>\n",
       "      <th>0</th>\n",
       "      <td>Africa Eastern and Southern</td>\n",
       "      <td>AFE</td>\n",
       "      <td>2024</td>\n",
       "      <td>NaN</td>\n",
       "      <td>NaN</td>\n",
       "    </tr>\n",
       "    <tr>\n",
       "      <th>1</th>\n",
       "      <td>Africa Eastern and Southern</td>\n",
       "      <td>AFE</td>\n",
       "      <td>2023</td>\n",
       "      <td>3967.860937</td>\n",
       "      <td>3967.860937</td>\n",
       "    </tr>\n",
       "    <tr>\n",
       "      <th>2</th>\n",
       "      <td>Africa Eastern and Southern</td>\n",
       "      <td>AFE</td>\n",
       "      <td>2022</td>\n",
       "      <td>3974.803045</td>\n",
       "      <td>3974.803045</td>\n",
       "    </tr>\n",
       "    <tr>\n",
       "      <th>3</th>\n",
       "      <td>Africa Eastern and Southern</td>\n",
       "      <td>AFE</td>\n",
       "      <td>2021</td>\n",
       "      <td>3934.287267</td>\n",
       "      <td>3934.287267</td>\n",
       "    </tr>\n",
       "    <tr>\n",
       "      <th>4</th>\n",
       "      <td>Africa Eastern and Southern</td>\n",
       "      <td>AFE</td>\n",
       "      <td>2020</td>\n",
       "      <td>3861.111238</td>\n",
       "      <td>3861.111238</td>\n",
       "    </tr>\n",
       "  </tbody>\n",
       "</table>\n",
       "</div>"
      ],
      "text/plain": [
       "                       country country_code  year  gdp_per_capita  \\\n",
       "0  Africa Eastern and Southern          AFE  2024             NaN   \n",
       "1  Africa Eastern and Southern          AFE  2023     3967.860937   \n",
       "2  Africa Eastern and Southern          AFE  2022     3974.803045   \n",
       "3  Africa Eastern and Southern          AFE  2021     3934.287267   \n",
       "4  Africa Eastern and Southern          AFE  2020     3861.111238   \n",
       "\n",
       "   life_expectancy  \n",
       "0              NaN  \n",
       "1      3967.860937  \n",
       "2      3974.803045  \n",
       "3      3934.287267  \n",
       "4      3861.111238  "
      ]
     },
     "execution_count": 16,
     "metadata": {},
     "output_type": "execute_result"
    }
   ],
   "source": [
    "merged_df = pd.merge(cleaned_capita_df, cleaned_life_exp_df, on=['country', 'country_code', 'year'], how='inner')\n",
    "merged_df.head()"
   ]
  },
  {
   "cell_type": "markdown",
   "id": "de55f627-c6b0-4f92-8c4a-18d67974f4a4",
   "metadata": {},
   "source": [
    "4. You can also get more information about the available countries (region, capital city, income level classification, etc.) by using the [Country API](https://datahelpdesk.worldbank.org/knowledgebase/articles/898590-country-api-queries). Use this API to pull in all available data. Merge this with your other datasets. Use this to now remove the rows that correspond to regions and not countries.\n"
   ]
  },
  {
   "cell_type": "markdown",
   "id": "28ced097-42e5-4973-b4a8-dd56f5bf102e",
   "metadata": {},
   "source": [
    "### **Bonus Questions:** After doing a basic request to get all records, you can attempt these exercises to get additional practice using query parameters.\n"
   ]
  },
  {
   "cell_type": "markdown",
   "id": "69710700-7f49-47aa-beda-03c461200098",
   "metadata": {},
   "source": [
    "1. Adjust your request so that it returns data just for the United States.\n"
   ]
  },
  {
   "cell_type": "code",
   "execution_count": null,
   "id": "b0183ded-b332-4667-a363-f7988bd7669b",
   "metadata": {},
   "outputs": [],
   "source": []
  },
  {
   "cell_type": "markdown",
   "id": "3b2a1a44-dd0a-4cc2-98e5-2dd1c0e8a02b",
   "metadata": {},
   "source": [
    "2. Adjust your request so that it returns data just for the United States for the year 2021.\n"
   ]
  },
  {
   "cell_type": "markdown",
   "id": "989a53bd-a088-4fb1-b5da-482cc9f5b410",
   "metadata": {},
   "source": [
    "3. Adjust your request so that it returns data just for the United States for the years 2000 through 2021.\n"
   ]
  },
  {
   "cell_type": "markdown",
   "id": "75f81e7b-4f76-4dfb-9f0a-a703ee5de688",
   "metadata": {},
   "source": [
    "4. Adjust your request so that it returns data for the United States and Canada for the years 2000 through 2021.\n"
   ]
  },
  {
   "cell_type": "markdown",
   "id": "7184fa1f-1eb6-4e16-bc83-5242e2e8b467",
   "metadata": {},
   "source": [
    "5. If you haven't already done so and you would like to get some additional practice using loops, use the page parameter in order to pull all records. Do not change the value of the per_page parameter. You will likely need to utilize a loop of some kind in order to pull all records.\n"
   ]
  },
  {
   "cell_type": "markdown",
   "id": "6e27e7a3-482f-461d-a5f8-dc96ea59b169",
   "metadata": {},
   "source": [
    "6. The endpoint \"http://api.worldbank.org/v2/indicator\" will return information about all available indicators. See [Indicator API Queries](https://datahelpdesk.worldbank.org/knowledgebase/articles/898599-indicator-api-queries). Use this endpoint to find the code for the \"Public Expenditure on Education (% GDP)\" indicator."
   ]
  },
  {
   "cell_type": "code",
   "execution_count": null,
   "id": "e9fc019e-1412-46b9-b983-24466aa42910",
   "metadata": {},
   "outputs": [],
   "source": []
  }
 ],
 "metadata": {
  "kernelspec": {
   "display_name": "Python [conda env:base] *",
   "language": "python",
   "name": "conda-base-py"
  },
  "language_info": {
   "codemirror_mode": {
    "name": "ipython",
    "version": 3
   },
   "file_extension": ".py",
   "mimetype": "text/x-python",
   "name": "python",
   "nbconvert_exporter": "python",
   "pygments_lexer": "ipython3",
   "version": "3.12.7"
  }
 },
 "nbformat": 4,
 "nbformat_minor": 5
}
